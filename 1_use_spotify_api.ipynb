{
 "cells": [
  {
   "cell_type": "code",
   "execution_count": 1,
   "metadata": {},
   "outputs": [],
   "source": [
    "import pandas as pd\n",
    "import numpy as np\n",
    "import matplotlib.pyplot as plt\n",
    "import seaborn as sns\n",
    "import os\n",
    "import time\n",
    "from utils import SpotifyExtractor\n",
    "pd.set_option('display.max_columns', None)"
   ]
  },
  {
   "cell_type": "markdown",
   "metadata": {},
   "source": [
    "# Initialize Spotify API"
   ]
  },
  {
   "cell_type": "code",
   "execution_count": 2,
   "metadata": {},
   "outputs": [],
   "source": [
    "spotify_extractor = SpotifyExtractor(client_id=os.getenv(\"SPOTIFY_CLIENT_ID\"), client_secret=os.getenv(\"SPOTIFY_CLIENT_SECRET\"))"
   ]
  },
  {
   "cell_type": "markdown",
   "metadata": {},
   "source": [
    "## Test endpoints"
   ]
  },
  {
   "cell_type": "code",
   "execution_count": 3,
   "metadata": {},
   "outputs": [
    {
     "data": {
      "text/plain": [
       "{'external_urls': {'spotify': 'https://open.spotify.com/artist/3HqSLMAZ3g3d5poNaI7GOU'},\n",
       " 'followers': {'href': None, 'total': 9018664},\n",
       " 'genres': ['k-pop', 'k-ballad'],\n",
       " 'href': 'https://api.spotify.com/v1/artists/3HqSLMAZ3g3d5poNaI7GOU',\n",
       " 'id': '3HqSLMAZ3g3d5poNaI7GOU',\n",
       " 'images': [{'url': 'https://i.scdn.co/image/ab6761610000e5ebbd0642ff425698afac5caffd',\n",
       "   'height': 640,\n",
       "   'width': 640},\n",
       "  {'url': 'https://i.scdn.co/image/ab67616100005174bd0642ff425698afac5caffd',\n",
       "   'height': 320,\n",
       "   'width': 320},\n",
       "  {'url': 'https://i.scdn.co/image/ab6761610000f178bd0642ff425698afac5caffd',\n",
       "   'height': 160,\n",
       "   'width': 160}],\n",
       " 'name': 'IU',\n",
       " 'popularity': 68,\n",
       " 'type': 'artist',\n",
       " 'uri': 'spotify:artist:3HqSLMAZ3g3d5poNaI7GOU'}"
      ]
     },
     "execution_count": 3,
     "metadata": {},
     "output_type": "execute_result"
    }
   ],
   "source": [
    "spotify_extractor.use_api(service='artists', id='3HqSLMAZ3g3d5poNaI7GOU')"
   ]
  },
  {
   "cell_type": "code",
   "execution_count": 4,
   "metadata": {},
   "outputs": [
    {
     "data": {
      "text/plain": [
       "{'album_id': '538vEfAgLJ6g2I8ubuOlap',\n",
       " 'duration_ms': 164554,\n",
       " 'track_popularity': 79}"
      ]
     },
     "execution_count": 4,
     "metadata": {},
     "output_type": "execute_result"
    }
   ],
   "source": [
    "spotify_extractor.get_track(track_id='3AoEQRuFf8zVXWqSLo2UOi')"
   ]
  },
  {
   "cell_type": "code",
   "execution_count": 5,
   "metadata": {},
   "outputs": [
    {
     "data": {
      "text/plain": [
       "[{'album_id': '538vEfAgLJ6g2I8ubuOlap',\n",
       "  'duration_ms': 164554,\n",
       "  'track_popularity': 79}]"
      ]
     },
     "execution_count": 5,
     "metadata": {},
     "output_type": "execute_result"
    }
   ],
   "source": [
    "spotify_extractor.get_tracks(track_ids=['3AoEQRuFf8zVXWqSLo2UOi'])"
   ]
  },
  {
   "cell_type": "code",
   "execution_count": 6,
   "metadata": {},
   "outputs": [
    {
     "data": {
      "text/plain": [
       "{'release_date': '2024-10-18',\n",
       " 'album_popularity': 83,\n",
       " 'image_url': 'https://i.scdn.co/image/ab67616d0000b27336032cb4acd9df050bc2e197'}"
      ]
     },
     "execution_count": 6,
     "metadata": {},
     "output_type": "execute_result"
    }
   ],
   "source": [
    "spotify_extractor.get_album(album_id='2IYQwwgxgOIn7t3iF6ufFD')"
   ]
  },
  {
   "cell_type": "code",
   "execution_count": 7,
   "metadata": {},
   "outputs": [
    {
     "data": {
      "text/plain": [
       "[{'release_date': '2024-10-18',\n",
       "  'release_date_precision': 'day',\n",
       "  'album_popularity': 83,\n",
       "  'image_url': 'https://i.scdn.co/image/ab67616d00001e0236032cb4acd9df050bc2e197'}]"
      ]
     },
     "execution_count": 7,
     "metadata": {},
     "output_type": "execute_result"
    }
   ],
   "source": [
    "spotify_extractor.get_albums(album_ids=['2IYQwwgxgOIn7t3iF6ufFD'])"
   ]
  },
  {
   "cell_type": "markdown",
   "metadata": {},
   "source": [
    "# Process streaming history data"
   ]
  },
  {
   "cell_type": "code",
   "execution_count": 8,
   "metadata": {},
   "outputs": [],
   "source": [
    "data = pd.concat([\n",
    "    pd.read_json(\"my_spotify_data/Streaming_History_Audio_2019-2020_0.json\"),\n",
    "    pd.read_json(\"my_spotify_data/Streaming_History_Audio_2020-2022_1.json\"),\n",
    "    pd.read_json(\"my_spotify_data/Streaming_History_Audio_2022-2024_2.json\"),\n",
    "    pd.read_json(\"my_spotify_data/Streaming_History_Audio_2024-2025_3.json\")\n",
    "])"
   ]
  },
  {
   "cell_type": "code",
   "execution_count": 9,
   "metadata": {},
   "outputs": [],
   "source": [
    "data['track_id'] = data['spotify_track_uri'].str.split(':').str[-1]"
   ]
  },
  {
   "cell_type": "code",
   "execution_count": 10,
   "metadata": {},
   "outputs": [],
   "source": [
    "columns = [\n",
    "    'ts',\n",
    "    'master_metadata_track_name',\n",
    "    'master_metadata_album_artist_name',\n",
    "    'master_metadata_album_album_name',\n",
    "    'ms_played',\n",
    "    'reason_start',\n",
    "    'reason_end',\n",
    "    'skipped',\n",
    "    'track_id'\n",
    "]"
   ]
  },
  {
   "cell_type": "code",
   "execution_count": 11,
   "metadata": {},
   "outputs": [],
   "source": [
    "df = data.copy(deep=True)\n",
    "# Only include music streams\n",
    "# This means removing streams without a spotify_track_uri\n",
    "df = df[~df['spotify_track_uri'].isnull()].reset_index(drop=True)\n",
    "# Only use the columns that we need\n",
    "df = df[columns]"
   ]
  },
  {
   "cell_type": "code",
   "execution_count": 12,
   "metadata": {},
   "outputs": [],
   "source": [
    "df.to_csv(\"streams_data.csv\", index=False)"
   ]
  },
  {
   "cell_type": "markdown",
   "metadata": {},
   "source": [
    "# Get data for all tracks"
   ]
  },
  {
   "cell_type": "code",
   "execution_count": 13,
   "metadata": {},
   "outputs": [],
   "source": [
    "df_track_ids = data[['track_id']].copy(deep=True)\n",
    "track_ids = df_track_ids['track_id'].dropna().unique().tolist()"
   ]
  },
  {
   "cell_type": "code",
   "execution_count": 14,
   "metadata": {},
   "outputs": [
    {
     "data": {
      "text/html": [
       "<div>\n",
       "<style scoped>\n",
       "    .dataframe tbody tr th:only-of-type {\n",
       "        vertical-align: middle;\n",
       "    }\n",
       "\n",
       "    .dataframe tbody tr th {\n",
       "        vertical-align: top;\n",
       "    }\n",
       "\n",
       "    .dataframe thead th {\n",
       "        text-align: right;\n",
       "    }\n",
       "</style>\n",
       "<table border=\"1\" class=\"dataframe\">\n",
       "  <thead>\n",
       "    <tr style=\"text-align: right;\">\n",
       "      <th></th>\n",
       "      <th>album_id</th>\n",
       "      <th>duration_ms</th>\n",
       "      <th>track_popularity</th>\n",
       "      <th>track_id</th>\n",
       "    </tr>\n",
       "  </thead>\n",
       "  <tbody>\n",
       "    <tr>\n",
       "      <th>0</th>\n",
       "      <td>677BXv3yxd2fhiekObHHiR</td>\n",
       "      <td>181520</td>\n",
       "      <td>42</td>\n",
       "      <td>2Qt3volK31SIYIgk4gfJdT</td>\n",
       "    </tr>\n",
       "    <tr>\n",
       "      <th>1</th>\n",
       "      <td>22F5ZYY1sxoJjk6HzZfmC1</td>\n",
       "      <td>210626</td>\n",
       "      <td>76</td>\n",
       "      <td>2EBCVPNAG46nbgs6jXPGvv</td>\n",
       "    </tr>\n",
       "    <tr>\n",
       "      <th>2</th>\n",
       "      <td>3pLdWdkj83EYfDN6H2N8MR</td>\n",
       "      <td>130613</td>\n",
       "      <td>50</td>\n",
       "      <td>5qN4HFkapdAOV94XPryVof</td>\n",
       "    </tr>\n",
       "    <tr>\n",
       "      <th>3</th>\n",
       "      <td>3pLdWdkj83EYfDN6H2N8MR</td>\n",
       "      <td>208760</td>\n",
       "      <td>52</td>\n",
       "      <td>0DJBgBiYeSn6n1AXAkFVE8</td>\n",
       "    </tr>\n",
       "    <tr>\n",
       "      <th>4</th>\n",
       "      <td>3pLdWdkj83EYfDN6H2N8MR</td>\n",
       "      <td>225266</td>\n",
       "      <td>57</td>\n",
       "      <td>1eLSF6HfrRA0AsNmTkUlKx</td>\n",
       "    </tr>\n",
       "  </tbody>\n",
       "</table>\n",
       "</div>"
      ],
      "text/plain": [
       "                 album_id  duration_ms  track_popularity  \\\n",
       "0  677BXv3yxd2fhiekObHHiR       181520                42   \n",
       "1  22F5ZYY1sxoJjk6HzZfmC1       210626                76   \n",
       "2  3pLdWdkj83EYfDN6H2N8MR       130613                50   \n",
       "3  3pLdWdkj83EYfDN6H2N8MR       208760                52   \n",
       "4  3pLdWdkj83EYfDN6H2N8MR       225266                57   \n",
       "\n",
       "                 track_id  \n",
       "0  2Qt3volK31SIYIgk4gfJdT  \n",
       "1  2EBCVPNAG46nbgs6jXPGvv  \n",
       "2  5qN4HFkapdAOV94XPryVof  \n",
       "3  0DJBgBiYeSn6n1AXAkFVE8  \n",
       "4  1eLSF6HfrRA0AsNmTkUlKx  "
      ]
     },
     "execution_count": 14,
     "metadata": {},
     "output_type": "execute_result"
    }
   ],
   "source": [
    "# Use batches to minimize API calls\n",
    "df_tracks = list()\n",
    "\n",
    "for i in range(0, 50, 50):\n",
    "    track_ids_batch = track_ids[i:i+50]\n",
    "    df_tracks_temp = spotify_extractor.get_tracks(track_ids=track_ids_batch)\n",
    "    df_tracks_temp = pd.DataFrame(df_tracks_temp)\n",
    "    df_tracks_temp['track_id'] = track_ids_batch\n",
    "    df_tracks.append(df_tracks_temp)\n",
    "    time.sleep(1)\n",
    "\n",
    "df_tracks = pd.concat(df_tracks, ignore_index=True)\n",
    "df_tracks.head()"
   ]
  },
  {
   "cell_type": "code",
   "execution_count": 15,
   "metadata": {},
   "outputs": [],
   "source": [
    "df_tracks.set_index('track_id').reset_index().to_csv(\"tracks_data.csv\", index=False)"
   ]
  },
  {
   "cell_type": "markdown",
   "metadata": {},
   "source": [
    "# Get data for all albums"
   ]
  },
  {
   "cell_type": "code",
   "execution_count": 16,
   "metadata": {},
   "outputs": [],
   "source": [
    "album_ids = df_tracks['album_id'].unique().tolist()"
   ]
  },
  {
   "cell_type": "code",
   "execution_count": 17,
   "metadata": {},
   "outputs": [
    {
     "data": {
      "text/html": [
       "<div>\n",
       "<style scoped>\n",
       "    .dataframe tbody tr th:only-of-type {\n",
       "        vertical-align: middle;\n",
       "    }\n",
       "\n",
       "    .dataframe tbody tr th {\n",
       "        vertical-align: top;\n",
       "    }\n",
       "\n",
       "    .dataframe thead th {\n",
       "        text-align: right;\n",
       "    }\n",
       "</style>\n",
       "<table border=\"1\" class=\"dataframe\">\n",
       "  <thead>\n",
       "    <tr style=\"text-align: right;\">\n",
       "      <th></th>\n",
       "      <th>release_date</th>\n",
       "      <th>release_date_precision</th>\n",
       "      <th>album_popularity</th>\n",
       "      <th>image_url</th>\n",
       "      <th>album_id</th>\n",
       "    </tr>\n",
       "  </thead>\n",
       "  <tbody>\n",
       "    <tr>\n",
       "      <th>0</th>\n",
       "      <td>2011-10-05</td>\n",
       "      <td>day</td>\n",
       "      <td>32.0</td>\n",
       "      <td>https://i.scdn.co/image/ab67616d00001e02d72168...</td>\n",
       "      <td>677BXv3yxd2fhiekObHHiR</td>\n",
       "    </tr>\n",
       "    <tr>\n",
       "      <th>1</th>\n",
       "      <td>2012-01-01</td>\n",
       "      <td>day</td>\n",
       "      <td>66.0</td>\n",
       "      <td>https://i.scdn.co/image/ab67616d00001e02ef9ad6...</td>\n",
       "      <td>22F5ZYY1sxoJjk6HzZfmC1</td>\n",
       "    </tr>\n",
       "    <tr>\n",
       "      <th>2</th>\n",
       "      <td>2018-02-09</td>\n",
       "      <td>day</td>\n",
       "      <td>76.0</td>\n",
       "      <td>https://i.scdn.co/image/ab67616d00001e02c027ad...</td>\n",
       "      <td>3pLdWdkj83EYfDN6H2N8MR</td>\n",
       "    </tr>\n",
       "    <tr>\n",
       "      <th>3</th>\n",
       "      <td>2012-10-22</td>\n",
       "      <td>day</td>\n",
       "      <td>67.0</td>\n",
       "      <td>https://i.scdn.co/image/ab67616d00001e0278de8b...</td>\n",
       "      <td>748dZDqSZy6aPXKcI9H80u</td>\n",
       "    </tr>\n",
       "    <tr>\n",
       "      <th>4</th>\n",
       "      <td>2018-05-06</td>\n",
       "      <td>day</td>\n",
       "      <td>53.0</td>\n",
       "      <td>https://i.scdn.co/image/ab67616d00001e02350466...</td>\n",
       "      <td>7arx9qPJexCsDz67El4qvk</td>\n",
       "    </tr>\n",
       "  </tbody>\n",
       "</table>\n",
       "</div>"
      ],
      "text/plain": [
       "  release_date release_date_precision  album_popularity  \\\n",
       "0   2011-10-05                    day              32.0   \n",
       "1   2012-01-01                    day              66.0   \n",
       "2   2018-02-09                    day              76.0   \n",
       "3   2012-10-22                    day              67.0   \n",
       "4   2018-05-06                    day              53.0   \n",
       "\n",
       "                                           image_url                album_id  \n",
       "0  https://i.scdn.co/image/ab67616d00001e02d72168...  677BXv3yxd2fhiekObHHiR  \n",
       "1  https://i.scdn.co/image/ab67616d00001e02ef9ad6...  22F5ZYY1sxoJjk6HzZfmC1  \n",
       "2  https://i.scdn.co/image/ab67616d00001e02c027ad...  3pLdWdkj83EYfDN6H2N8MR  \n",
       "3  https://i.scdn.co/image/ab67616d00001e0278de8b...  748dZDqSZy6aPXKcI9H80u  \n",
       "4  https://i.scdn.co/image/ab67616d00001e02350466...  7arx9qPJexCsDz67El4qvk  "
      ]
     },
     "execution_count": 17,
     "metadata": {},
     "output_type": "execute_result"
    }
   ],
   "source": [
    "# Use batches to minimize API calls\n",
    "df_albums = list()\n",
    "\n",
    "for i in range(0, 50, 20):\n",
    "    album_ids_batch = album_ids[i:i+20]\n",
    "    df_albums_temp = spotify_extractor.get_albums(album_ids=album_ids_batch)\n",
    "    df_albums_temp = pd.DataFrame(df_albums_temp)\n",
    "    df_albums_temp['album_id'] = album_ids_batch\n",
    "    df_albums.append(df_albums_temp)\n",
    "    time.sleep(1)\n",
    "\n",
    "df_albums = pd.concat(df_albums, ignore_index=True)\n",
    "df_albums.head()"
   ]
  },
  {
   "cell_type": "code",
   "execution_count": 18,
   "metadata": {},
   "outputs": [],
   "source": [
    "df_albums.set_index('track_id').reset_index().to_csv(\"albums_data.csv\", index=False)"
   ]
  }
 ],
 "metadata": {
  "kernelspec": {
   "display_name": "Python 3",
   "language": "python",
   "name": "python3"
  },
  "language_info": {
   "codemirror_mode": {
    "name": "ipython",
    "version": 3
   },
   "file_extension": ".py",
   "mimetype": "text/x-python",
   "name": "python",
   "nbconvert_exporter": "python",
   "pygments_lexer": "ipython3",
   "version": "3.11.5"
  }
 },
 "nbformat": 4,
 "nbformat_minor": 2
}
